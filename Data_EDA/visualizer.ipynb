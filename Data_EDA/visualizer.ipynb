{
 "cells": [
  {
   "cell_type": "code",
   "execution_count": 5,
   "metadata": {},
   "outputs": [],
   "source": [
    "import json\n",
    "import matplotlib.pyplot as plt\n",
    "from PIL import Image\n",
    "import matplotlib.patches as patches\n",
    "\n",
    "def visualize_annotations(json_path, source):\n",
    "    with open(json_path, 'r') as file:\n",
    "        data = json.load(file)\n",
    "        image_path = data[\"images\"][source.split(\"/\")[-1]]['words']\n",
    "\n",
    "    img = Image.open(source)\n",
    "\n",
    "    plt.figure(figsize=(12,10))\n",
    "    plt.imshow(img)\n",
    "    for i in image_path:\n",
    "        B = image_path[i]\n",
    "        A = B['points']\n",
    "        poly = patches.Polygon(A,closed=True, edgecolor='r',facecolor=\"None\")\n",
    "        plt.gca().add_patch(poly)\n",
    "\n",
    "    plt.axis('off') \n",
    "    plt.show()\n"
   ]
  },
  {
   "cell_type": "code",
   "execution_count": null,
   "metadata": {},
   "outputs": [],
   "source": [
    "json_path = '/data/ephemeral/data/medical/ufo/train.json'\n",
    "source = '/data/ephemeral/data/medical/img/train/drp.en_ko.in_house.deepnatural_003850.jpg'\n",
    "\n",
    "visualize_annotations(json_path, source)"
   ]
  }
 ],
 "metadata": {
  "kernelspec": {
   "display_name": "base",
   "language": "python",
   "name": "python3"
  },
  "language_info": {
   "codemirror_mode": {
    "name": "ipython",
    "version": 3
   },
   "file_extension": ".py",
   "mimetype": "text/x-python",
   "name": "python",
   "nbconvert_exporter": "python",
   "pygments_lexer": "ipython3",
   "version": "3.8.5"
  }
 },
 "nbformat": 4,
 "nbformat_minor": 2
}
